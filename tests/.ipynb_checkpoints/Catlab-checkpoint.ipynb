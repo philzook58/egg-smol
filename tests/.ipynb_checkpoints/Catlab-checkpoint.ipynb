{
 "cells": [
  {
   "cell_type": "code",
   "execution_count": 4,
   "id": "bee3878d-3c76-472a-9ee2-eb9950253343",
   "metadata": {},
   "outputs": [],
   "source": [
    "using Catlab\n",
    "using Catlab.Theories"
   ]
  },
  {
   "cell_type": "code",
   "execution_count": 196,
   "id": "9fb4a8d1-66f9-4fbe-8d4d-ddfff6c766d2",
   "metadata": {
    "tags": []
   },
   "outputs": [],
   "source": [
    "theories = filter(n -> String(n)[1] == 'T' && String(n)[2] == 'h' && n != :Theories, names(Catlab.Theories))\n",
    "for th in theories\n",
    "    open(\"catlab/$th.egg\",\"w\") do io\n",
    "        e = :(Catlab.Theories.$th)\n",
    "        println(io, \";$th\")\n",
    "        th = theory(eval(:(Catlab.Theories.$th)))\n",
    "        println(io, egglog(th))\n",
    "    end\n",
    "end"
   ]
  },
  {
   "cell_type": "code",
   "execution_count": 122,
   "id": "a61553a3-3b2d-4fe6-97cd-e99cfe266b92",
   "metadata": {},
   "outputs": [
    {
     "data": {
      "text/plain": [
       "Catlab.GAT.TermConstructor(:reflexive, [:A], :(Leq(A, A)), OrderedCollections.OrderedDict{Symbol, Union{Expr, Symbol}}(:A => :El), nothing)"
      ]
     },
     "execution_count": 122,
     "metadata": {},
     "output_type": "execute_result"
    }
   ],
   "source": [
    "theory(Catlab.Theories.ThPreorder).terms[1]"
   ]
  },
  {
   "cell_type": "code",
   "execution_count": 124,
   "id": "90aaca0b-3491-4148-8945-78119b6dde32",
   "metadata": {
    "tags": []
   },
   "outputs": [
    {
     "data": {
      "text/plain": [
       "Catlab.GAT.TermConstructor(:compose, [:f, :g], :(Hom(A, C)), OrderedCollections.OrderedDict{Symbol, Union{Expr, Symbol}}(:A => :Ob, :B => :Ob, :C => :Ob, :f => :(Hom(A, B)), :g => :(Hom(B, C))), nothing)"
      ]
     },
     "execution_count": 124,
     "metadata": {},
     "output_type": "execute_result"
    }
   ],
   "source": [
    "theory(Catlab.Theories.ThCategory).terms[2]"
   ]
  },
  {
   "cell_type": "code",
   "execution_count": 102,
   "id": "51ab1b85-f326-4f0c-9e25-ee79280c608b",
   "metadata": {},
   "outputs": [
    {
     "data": {
      "text/plain": [
       ":(Catlab.Theories.ThCategory)"
      ]
     },
     "execution_count": 102,
     "metadata": {},
     "output_type": "execute_result"
    }
   ],
   "source": [
    "t = :ThCategory\n",
    ":(Catlab.Theories.$(t))"
   ]
  },
  {
   "cell_type": "code",
   "execution_count": 87,
   "id": "3b9bc624-bf0d-4674-abfe-7a72c6575d6d",
   "metadata": {},
   "outputs": [
    {
     "data": {
      "text/plain": [
       "ThCategory"
      ]
     },
     "execution_count": 87,
     "metadata": {},
     "output_type": "execute_result"
    }
   ],
   "source": [
    "ThCategory"
   ]
  },
  {
   "cell_type": "code",
   "execution_count": 83,
   "id": "cecd9d30-829e-4de5-8ec1-0f0e8956c652",
   "metadata": {},
   "outputs": [
    {
     "data": {
      "text/plain": [
       "'T': ASCII/Unicode U+0054 (category Lu: Letter, uppercase)"
      ]
     },
     "execution_count": 83,
     "metadata": {},
     "output_type": "execute_result"
    }
   ],
   "source": [
    "String(names(Catlab.Theories)[100])[1]"
   ]
  },
  {
   "cell_type": "code",
   "execution_count": 65,
   "id": "84881b7a-4b4c-4f8b-bc64-84836873bb53",
   "metadata": {},
   "outputs": [
    {
     "data": {
      "text/plain": [
       "DataType"
      ]
     },
     "execution_count": 65,
     "metadata": {},
     "output_type": "execute_result"
    }
   ],
   "source": [
    "typeof(Catlab.Theories.ThCategory)"
   ]
  },
  {
   "cell_type": "code",
   "execution_count": null,
   "id": "ec1113d5-2d04-4b16-a599-142dc049fadf",
   "metadata": {},
   "outputs": [],
   "source": [
    "Catlab.Theories."
   ]
  },
  {
   "cell_type": "code",
   "execution_count": 10,
   "id": "dc9bca6e-4588-463f-9af5-8e73993badea",
   "metadata": {},
   "outputs": [
    {
     "data": {
      "text/plain": [
       "Catlab.GAT.Theory(Catlab.GAT.TypeConstructor[Catlab.GAT.TypeConstructor(:Ob, Symbol[], OrderedCollections.OrderedDict{Symbol, Union{Expr, Symbol}}(), \" Object in a category \"), Catlab.GAT.TypeConstructor(:Hom, [:dom, :codom], OrderedCollections.OrderedDict{Symbol, Union{Expr, Symbol}}(:dom => :Ob, :codom => :Ob), \" Morphism in a category \")], Catlab.GAT.TermConstructor[Catlab.GAT.TermConstructor(:id, [:A], :(Hom(A, A)), OrderedCollections.OrderedDict{Symbol, Union{Expr, Symbol}}(:A => :Ob), nothing), Catlab.GAT.TermConstructor(:compose, [:f, :g], :(Hom(A, C)), OrderedCollections.OrderedDict{Symbol, Union{Expr, Symbol}}(:A => :Ob, :B => :Ob, :C => :Ob, :f => :(Hom(A, B)), :g => :(Hom(B, C))), nothing)], Catlab.GAT.AxiomConstructor[Catlab.GAT.AxiomConstructor(:(==), :(compose(compose(f, g), h)), :(compose(f, compose(g, h))), OrderedCollections.OrderedDict{Symbol, Union{Expr, Symbol}}(:A => :Ob, :B => :Ob, :C => :Ob, :D => :Ob, :f => :(Hom(A, B)), :g => :(Hom(B, C)), :h => :(Hom(C, D))), nothing), Catlab.GAT.AxiomConstructor(:(==), :(compose(f, id(B))), :f, OrderedCollections.OrderedDict{Symbol, Union{Expr, Symbol}}(:A => :Ob, :B => :Ob, :f => :(Hom(A, B))), nothing), Catlab.GAT.AxiomConstructor(:(==), :(compose(id(A), f)), :f, OrderedCollections.OrderedDict{Symbol, Union{Expr, Symbol}}(:A => :Ob, :B => :Ob, :f => :(Hom(A, B))), nothing)], Dict(:⋅ => :compose, :→ => :Hom))"
      ]
     },
     "execution_count": 10,
     "metadata": {},
     "output_type": "execute_result"
    }
   ],
   "source": [
    "th = theory(Catlab.Theories.ThCategory)"
   ]
  },
  {
   "cell_type": "code",
   "execution_count": 19,
   "id": "dc64a4ec-af79-4052-a6a3-283c7cfacd44",
   "metadata": {
    "collapsed": true,
    "jupyter": {
     "outputs_hidden": true
    },
    "tags": []
   },
   "outputs": [
    {
     "name": "stdout",
     "output_type": "stream",
     "text": [
      "Catlab.GAT.Theory\n",
      "  types: Array{Catlab.GAT.TypeConstructor}((2,))\n",
      "    1: Catlab.GAT.TypeConstructor\n",
      "      name: Symbol Ob\n",
      "      params: Array{Symbol}((0,))\n",
      "      context: OrderedCollections.OrderedDict{Symbol, Union{Expr, Symbol}}\n",
      "        slots: Array{Int32}((16,)) Int32[0, 0, 0, 0, 0, 0, 0, 0, 0, 0, 0, 0, 0, 0, 0, 0]\n",
      "        keys: Array{Symbol}((0,))\n",
      "        vals: Array{Union{Expr, Symbol}}((0,))\n",
      "        ndel: Int64 0\n",
      "        maxprobe: Int64 0\n",
      "        dirty: Bool false\n",
      "      doc: String \" Object in a category \"\n",
      "    2: Catlab.GAT.TypeConstructor\n",
      "      name: Symbol Hom\n",
      "      params: Array{Symbol}((2,))\n",
      "        1: Symbol dom\n",
      "        2: Symbol codom\n",
      "      context: OrderedCollections.OrderedDict{Symbol, Union{Expr, Symbol}}\n",
      "        slots: Array{Int32}((16,)) Int32[0, 1, 0, 0, 0, 0, 0, 0, 0, 0, 0, 0, 0, 2, 0, 0]\n",
      "        keys: Array{Symbol}((2,))\n",
      "          1: Symbol dom\n",
      "          2: Symbol codom\n",
      "        vals: Array{Union{Expr, Symbol}}((2,))\n",
      "          1: Symbol Ob\n",
      "          2: Symbol Ob\n",
      "        ndel: Int64 0\n",
      "        maxprobe: Int64 0\n",
      "        dirty: Bool true\n",
      "      doc: String \" Morphism in a category \"\n",
      "  terms: Array{Catlab.GAT.TermConstructor}((2,))\n",
      "    1: Catlab.GAT.TermConstructor\n",
      "      name: Symbol id\n",
      "      params: Array{Symbol}((1,))\n",
      "        1: Symbol A\n",
      "      typ: Expr\n",
      "        head: Symbol call\n",
      "        args: Array{Any}((3,))\n",
      "          1: Symbol Hom\n",
      "          2: Symbol A\n",
      "          3: Symbol A\n",
      "      context: OrderedCollections.OrderedDict{Symbol, Union{Expr, Symbol}}\n",
      "        slots: Array{Int32}((16,)) Int32[0, 0, 0, 0, 1, 0, 0, 0, 0, 0, 0, 0, 0, 0, 0, 0]\n",
      "        keys: Array{Symbol}((1,))\n",
      "          1: Symbol A\n",
      "        vals: Array{Union{Expr, Symbol}}((1,))\n",
      "          1: Symbol Ob\n",
      "        ndel: Int64 0\n",
      "        maxprobe: Int64 0\n",
      "        dirty: Bool true\n",
      "      doc: Nothing nothing\n",
      "    2: Catlab.GAT.TermConstructor\n",
      "      name: Symbol compose\n",
      "      params: Array{Symbol}((2,))\n",
      "        1: Symbol f\n",
      "        2: Symbol g\n",
      "      typ: Expr\n",
      "        head: Symbol call\n",
      "        args: Array{Any}((3,))\n",
      "          1: Symbol Hom\n",
      "          2: Symbol A\n",
      "          3: Symbol C\n",
      "      context: OrderedCollections.OrderedDict{Symbol, Union{Expr, Symbol}}\n",
      "        slots: Array{Int32}((16,)) Int32[4, 0, 0, 0, 1, 0, 0, 0, 2, 0, 0, 5, 0, 0, 0, 3]\n",
      "        keys: Array{Symbol}((5,))\n",
      "          1: Symbol A\n",
      "          2: Symbol B\n",
      "          3: Symbol C\n",
      "          4: Symbol f\n",
      "          5: Symbol g\n",
      "        vals: Array{Union{Expr, Symbol}}((5,))\n",
      "          1: Symbol Ob\n",
      "          2: Symbol Ob\n",
      "          3: Symbol Ob\n",
      "          4: Expr\n",
      "            head: Symbol call\n",
      "            args: Array{Any}((3,))\n",
      "              1: Symbol Hom\n",
      "              2: Symbol A\n",
      "              3: Symbol B\n",
      "          5: Expr\n",
      "            head: Symbol call\n",
      "            args: Array{Any}((3,))\n",
      "              1: Symbol Hom\n",
      "              2: Symbol B\n",
      "              3: Symbol C\n",
      "        ndel: Int64 0\n",
      "        maxprobe: Int64 0\n",
      "        dirty: Bool true\n",
      "      doc: Nothing nothing\n",
      "  axioms: Array{Catlab.GAT.AxiomConstructor}((3,))\n",
      "    1: Catlab.GAT.AxiomConstructor\n",
      "      name: Symbol ==\n",
      "      left: Expr\n",
      "        head: Symbol call\n",
      "        args: Array{Any}((3,))\n",
      "          1: Symbol compose\n",
      "          2: Expr\n",
      "            head: Symbol call\n",
      "            args: Array{Any}((3,))\n",
      "              1: Symbol compose\n",
      "              2: Symbol f\n",
      "              3: Symbol g\n",
      "          3: Symbol h\n",
      "      right: Expr\n",
      "        head: Symbol call\n",
      "        args: Array{Any}((3,))\n",
      "          1: Symbol compose\n",
      "          2: Symbol f\n",
      "          3: Expr\n",
      "            head: Symbol call\n",
      "            args: Array{Any}((3,))\n",
      "              1: Symbol compose\n",
      "              2: Symbol g\n",
      "              3: Symbol h\n",
      "      context: OrderedCollections.OrderedDict{Symbol, Union{Expr, Symbol}}\n",
      "        slots: Array{Int32}((16,)) Int32[5, 0, 0, 0, 1, 0, 4, 0, 2, 7, 0, 6, 0, 0, 0, 3]\n",
      "        keys: Array{Symbol}((7,))\n",
      "          1: Symbol A\n",
      "          2: Symbol B\n",
      "          3: Symbol C\n",
      "          4: Symbol D\n",
      "          5: Symbol f\n",
      "          6: Symbol g\n",
      "          7: Symbol h\n",
      "        vals: Array{Union{Expr, Symbol}}((7,))\n",
      "          1: Symbol Ob\n",
      "          2: Symbol Ob\n",
      "          3: Symbol Ob\n",
      "          4: Symbol Ob\n",
      "          5: Expr\n",
      "            head: Symbol call\n",
      "            args: Array{Any}((3,))\n",
      "              1: Symbol Hom\n",
      "              2: Symbol A\n",
      "              3: Symbol B\n",
      "          6: Expr\n",
      "            head: Symbol call\n",
      "            args: Array{Any}((3,))\n",
      "              1: Symbol Hom\n",
      "              2: Symbol B\n",
      "              3: Symbol C\n",
      "          7: Expr\n",
      "            head: Symbol call\n",
      "            args: Array{Any}((3,))\n",
      "              1: Symbol Hom\n",
      "              2: Symbol C\n",
      "              3: Symbol D\n",
      "        ndel: Int64 0\n",
      "        maxprobe: Int64 0\n",
      "        dirty: Bool true\n",
      "      doc: Nothing nothing\n",
      "    2: Catlab.GAT.AxiomConstructor\n",
      "      name: Symbol ==\n",
      "      left: Expr\n",
      "        head: Symbol call\n",
      "        args: Array{Any}((3,))\n",
      "          1: Symbol compose\n",
      "          2: Symbol f\n",
      "          3: Expr\n",
      "            head: Symbol call\n",
      "            args: Array{Any}((2,))\n",
      "              1: Symbol id\n",
      "              2: Symbol B\n",
      "      right: Symbol f\n",
      "      context: OrderedCollections.OrderedDict{Symbol, Union{Expr, Symbol}}\n",
      "        slots: Array{Int32}((16,)) Int32[3, 0, 0, 0, 1, 0, 0, 0, 2, 0, 0, 0, 0, 0, 0, 0]\n",
      "        keys: Array{Symbol}((3,))\n",
      "          1: Symbol A\n",
      "          2: Symbol B\n",
      "          3: Symbol f\n",
      "        vals: Array{Union{Expr, Symbol}}((3,))\n",
      "          1: Symbol Ob\n",
      "          2: Symbol Ob\n",
      "          3: Expr\n",
      "            head: Symbol call\n",
      "            args: Array{Any}((3,))\n",
      "              1: Symbol Hom\n",
      "              2: Symbol A\n",
      "              3: Symbol B\n",
      "        ndel: Int64 0\n",
      "        maxprobe: Int64 0\n",
      "        dirty: Bool true\n",
      "      doc: Nothing nothing\n",
      "    3: Catlab.GAT.AxiomConstructor\n",
      "      name: Symbol ==\n",
      "      left: Expr\n",
      "        head: Symbol call\n",
      "        args: Array{Any}((3,))\n",
      "          1: Symbol compose\n",
      "          2: Expr\n",
      "            head: Symbol call\n",
      "            args: Array{Any}((2,))\n",
      "              1: Symbol id\n",
      "              2: Symbol A\n",
      "          3: Symbol f\n",
      "      right: Symbol f\n",
      "      context: OrderedCollections.OrderedDict{Symbol, Union{Expr, Symbol}}\n",
      "        slots: Array{Int32}((16,)) Int32[3, 0, 0, 0, 1, 0, 0, 0, 2, 0, 0, 0, 0, 0, 0, 0]\n",
      "        keys: Array{Symbol}((3,))\n",
      "          1: Symbol A\n",
      "          2: Symbol B\n",
      "          3: Symbol f\n",
      "        vals: Array{Union{Expr, Symbol}}((3,))\n",
      "          1: Symbol Ob\n",
      "          2: Symbol Ob\n",
      "          3: Expr\n",
      "            head: Symbol call\n",
      "            args: Array{Any}((3,))\n",
      "              1: Symbol Hom\n",
      "              2: Symbol A\n",
      "              3: Symbol B\n",
      "        ndel: Int64 0\n",
      "        maxprobe: Int64 0\n",
      "        dirty: Bool true\n",
      "      doc: Nothing nothing\n",
      "  aliases: Dict{Symbol, Symbol}\n",
      "    slots: Array{UInt8}((16,)) UInt8[0x01, 0x00, 0x00, 0x00, 0x00, 0x01, 0x00, 0x00, 0x00, 0x00, 0x00, 0x00, 0x00, 0x00, 0x00, 0x00]\n",
      "    keys: Array{Symbol}((16,))\n",
      "      1: Symbol ⋅\n",
      "      2: #undef\n",
      "      3: #undef\n",
      "      4: #undef\n",
      "      5: #undef\n",
      "      ...\n",
      "      12: #undef\n",
      "      13: #undef\n",
      "      14: #undef\n",
      "      15: #undef\n",
      "      16: #undef\n",
      "    vals: Array{Symbol}((16,))\n",
      "      1: Symbol compose\n",
      "      2: #undef\n",
      "      3: #undef\n",
      "      4: #undef\n",
      "      5: #undef\n",
      "      ...\n",
      "      12: #undef\n",
      "      13: #undef\n",
      "      14: #undef\n",
      "      15: #undef\n",
      "      16: #undef\n",
      "    ndel: Int64 0\n",
      "    count: Int64 2\n",
      "    age: UInt64 0x0000000000000002\n",
      "    idxfloor: Int64 1\n",
      "    maxprobe: Int64 0\n"
     ]
    }
   ],
   "source": [
    "dump(th)"
   ]
  },
  {
   "cell_type": "code",
   "execution_count": 35,
   "id": "dd66948f-4dab-42f3-9b0f-dcc9ba3b5611",
   "metadata": {
    "collapsed": true,
    "jupyter": {
     "outputs_hidden": true
    },
    "tags": []
   },
   "outputs": [
    {
     "name": "stdout",
     "output_type": "stream",
     "text": [
      "Catlab.GAT.AxiomConstructor\n",
      "  name: Symbol ==\n",
      "  left: Expr\n",
      "    head: Symbol call\n",
      "    args: Array{Any}((3,))\n",
      "      1: Symbol compose\n",
      "      2: Expr\n",
      "        head: Symbol call\n",
      "        args: Array{Any}((3,))\n",
      "          1: Symbol compose\n",
      "          2: Symbol f\n",
      "          3: Symbol g\n",
      "      3: Symbol h\n",
      "  right: Expr\n",
      "    head: Symbol call\n",
      "    args: Array{Any}((3,))\n",
      "      1: Symbol compose\n",
      "      2: Symbol f\n",
      "      3: Expr\n",
      "        head: Symbol call\n",
      "        args: Array{Any}((3,))\n",
      "          1: Symbol compose\n",
      "          2: Symbol g\n",
      "          3: Symbol h\n",
      "  context: OrderedCollections.OrderedDict{Symbol, Union{Expr, Symbol}}\n",
      "    slots: Array{Int32}((16,)) Int32[5, 0, 0, 0, 1, 0, 4, 0, 2, 7, 0, 6, 0, 0, 0, 3]\n",
      "    keys: Array{Symbol}((7,))\n",
      "      1: Symbol A\n",
      "      2: Symbol B\n",
      "      3: Symbol C\n",
      "      4: Symbol D\n",
      "      5: Symbol f\n",
      "      6: Symbol g\n",
      "      7: Symbol h\n",
      "    vals: Array{Union{Expr, Symbol}}((7,))\n",
      "      1: Symbol Ob\n",
      "      2: Symbol Ob\n",
      "      3: Symbol Ob\n",
      "      4: Symbol Ob\n",
      "      5: Expr\n",
      "        head: Symbol call\n",
      "        args: Array{Any}((3,))\n",
      "          1: Symbol Hom\n",
      "          2: Symbol A\n",
      "          3: Symbol B\n",
      "      6: Expr\n",
      "        head: Symbol call\n",
      "        args: Array{Any}((3,))\n",
      "          1: Symbol Hom\n",
      "          2: Symbol B\n",
      "          3: Symbol C\n",
      "      7: Expr\n",
      "        head: Symbol call\n",
      "        args: Array{Any}((3,))\n",
      "          1: Symbol Hom\n",
      "          2: Symbol C\n",
      "          3: Symbol D\n",
      "    ndel: Int64 0\n",
      "    maxprobe: Int64 0\n",
      "    dirty: Bool true\n",
      "  doc: Nothing nothing\n"
     ]
    }
   ],
   "source": [
    "dump(th.axioms[1])"
   ]
  },
  {
   "cell_type": "code",
   "execution_count": 28,
   "id": "47af2da1-fcec-4a33-bafc-76e99a584f2e",
   "metadata": {},
   "outputs": [
    {
     "name": "stdout",
     "output_type": "stream",
     "text": [
      "Catlab.GAT.TypeConstructor\n",
      "  name: Symbol Hom\n",
      "  params: Array{Symbol}((2,))\n",
      "    1: Symbol dom\n",
      "    2: Symbol codom\n",
      "  context: OrderedCollections.OrderedDict{Symbol, Union{Expr, Symbol}}\n",
      "    slots: Array{Int32}((16,)) Int32[0, 1, 0, 0, 0, 0, 0, 0, 0, 0, 0, 0, 0, 2, 0, 0]\n",
      "    keys: Array{Symbol}((2,))\n",
      "      1: Symbol dom\n",
      "      2: Symbol codom\n",
      "    vals: Array{Union{Expr, Symbol}}((2,))\n",
      "      1: Symbol Ob\n",
      "      2: Symbol Ob\n",
      "    ndel: Int64 0\n",
      "    maxprobe: Int64 0\n",
      "    dirty: Bool true\n",
      "  doc: String \" Morphism in a category \"\n"
     ]
    }
   ],
   "source": [
    "dump(th.types[2])"
   ]
  },
  {
   "cell_type": "code",
   "execution_count": 34,
   "id": "00c518b9-b2d9-41ad-90ec-2b804d8b37cb",
   "metadata": {},
   "outputs": [
    {
     "name": "stdout",
     "output_type": "stream",
     "text": [
      "(function Ob () TYPE)\n",
      "(function Hom (Ob Ob) TYPE)\n"
     ]
    }
   ],
   "source": [
    "for typ in th.types\n",
    "   types = join([typ.context[p] for p in typ.params], \" \")\n",
    "   println(\"(function $(typ.name) ($(types)) TYPE)\") \n",
    "end"
   ]
  },
  {
   "cell_type": "code",
   "execution_count": 195,
   "id": "aa54f69c-65f3-4908-b6d1-5115e5e34178",
   "metadata": {},
   "outputs": [
    {
     "data": {
      "text/plain": [
       "egglog (generic function with 6 methods)"
      ]
     },
     "execution_count": 195,
     "metadata": {},
     "output_type": "execute_result"
    }
   ],
   "source": [
    "function egglog(e::GAT.Expr)\n",
    "    @assert e.head == :call\n",
    "    args = join(map(egglog, e.args[2:end]), \" \")\n",
    "    return \"($(e.args[1]) $args)\"\n",
    "end\n",
    "egglog(x::Symbol) = String(x)\n",
    "function egglog(ax::GAT.AxiomConstructor)\n",
    "   left = egglog(ax.left)\n",
    "   right = egglog(ax.right)\n",
    "   cond = [\"(= (type $k) $(egglog(typ)))\" for (k, typ) in ax.context]\n",
    "   cond = join(cond, \" \")\n",
    "   return \"(birewrite $left $right :when ($cond))\"\n",
    "end\n",
    "function egglog(typ::GAT.TypeConstructor)\n",
    "   #strip_type = \"(datatype $(typ.name))\\n\"\n",
    "   #typytype = \"(function type ($(typ.name)) TYPE)\\n\"\n",
    "   types = join([\"TERM\" for p in typ.params], \" \")\n",
    "   return \"(function $(typ.name) ($(types)) TYPE)\"\n",
    "end\n",
    "function egglog(th::GAT.Theory)\n",
    "    TYPE = \"(datatype TYPE)\\n\"\n",
    "    TERM = \"(datatype TERM)\\n\"\n",
    "    typ = \"(function type (TERM) TYPE)\\n\"\n",
    "    types = join(map(egglog,th.types), \"\\n\")\n",
    "    terms = join(map(egglog,th.terms), \"\\n\")\n",
    "    axioms = join(map(egglog,th.axioms), \"\\n\")\n",
    "    return TYPE * TERM * typ * types * \"\\n\\n\" * terms * \"\\n\\n\" * axioms \n",
    "end\n",
    "function egglog(term::GAT.TermConstructor)\n",
    "    name = term.name\n",
    "   paramtyps_stripped =  join([\"TERM\" for p in term.params], \" \")\n",
    "   typ_stripped = symbolize(term.typ)\n",
    "    # function declaration.\n",
    "   fundef = \"(function $(term.name) ($paramtyps_stripped) TERM)\\n\"\n",
    "    # rewrite rule for type\n",
    "   params = join([p for p in term.params], \" \")\n",
    "   typ = egglog(term.typ)\n",
    "   typeconds = join([\"(= (type $p) $(egglog(term.context[p])))\" for p in term.params], \" \")\n",
    "   rewrite = \"(rewrite (type ($name $params)) $typ :when ($typeconds))\\n\"\n",
    "    # demand\n",
    "    demandcond = join([\"(let $(t)_type (type $t))\" for t in term.params], \" \")\n",
    "    demand = \"(rule ((= goofball (type ($name $params))))  ($demandcond))\\n\"\n",
    "    return fundef * demand * rewrite\n",
    "end"
   ]
  },
  {
   "cell_type": "code",
   "execution_count": 188,
   "id": "a1469c12-4e4e-4bb0-bc68-546c9c0e46b8",
   "metadata": {},
   "outputs": [
    {
     "data": {
      "text/plain": [
       "egglog (generic function with 6 methods)"
      ]
     },
     "execution_count": 188,
     "metadata": {},
     "output_type": "execute_result"
    }
   ],
   "source": [
    "function egglog(e::GAT.Expr)\n",
    "    @assert e.head == :call\n",
    "    args = join(map(egglog, e.args[2:end]), \" \")\n",
    "    return \"($(e.args[1]) $args)\"\n",
    "end\n",
    "egglog(x::Symbol) = String(x)\n",
    "function egglog(ax::GAT.AxiomConstructor)\n",
    "   left = egglog(ax.left)\n",
    "   right = egglog(ax.right)\n",
    "   cond = [\"(= $k $(egglog(typ)))\" for (k, typ) in ax.context]\n",
    "   cond = join(cond, \" \")\n",
    "   return \"(birewrite $left $right :when ($cond))\"\n",
    "end\n",
    "function egglog(typ::GAT.TypeConstructor)\n",
    "   strip_type = \"(datatype $(typ.name))\\n\"\n",
    "   typytype = \"(function type ($(typ.name)) TYPE)\\n\"\n",
    "   types = join([typ.context[p] for p in typ.params], \" \")\n",
    "   return strip_type * typytype * \"(function $(typ.name) ($(types)) TYPE)\"\n",
    "end\n",
    "function egglog(th::GAT.Theory)\n",
    "    TYPE = \"(datatype TYPE)\\n\"\n",
    "    types = join(map(egglog,th.types), \"\\n\")\n",
    "    terms = join(map(egglog,th.terms), \"\\n\")\n",
    "    axioms = join(map(egglog,th.axioms), \"\\n\")\n",
    "    return TYPE * types * \"\\n\\n\" * terms * \"\\n\\n\" * axioms \n",
    "end\n",
    "function egglog(term::GAT.TermConstructor)\n",
    "    name = term.name\n",
    "   paramtyps_stripped =  join([symbolize(term.context[p]) for p in term.params], \" \")\n",
    "   typ_stripped = symbolize(term.typ)\n",
    "    # function declaration.\n",
    "   fundef = \"(function $(term.name) ($paramtyps_stripped) $typ_stripped)\\n\"\n",
    "    # rewrite rule for type\n",
    "   params = join([p for p in term.params], \" \")\n",
    "   typ = egglog(term.typ)\n",
    "   typeconds = join([\"(= (type $p) $(egglog(term.context[p])))\" for p in term.params], \" \")\n",
    "   rewrite = \"(rewrite (type ($name $params)) $typ :when ($typeconds))\\n\"\n",
    "    # demand\n",
    "    demandcond = join([\"(let $(t)_type (type $t))\" for t in term.params], \" \")\n",
    "    demand = \"(rule ((= goofball (type ($name $params))))  ($demandcond))\\n\"\n",
    "    return fundef * demand * rewrite\n",
    "end"
   ]
  },
  {
   "cell_type": "code",
   "execution_count": 169,
   "id": "aae28c12-2e97-4ed4-8802-e309cb11cf37",
   "metadata": {},
   "outputs": [
    {
     "name": "stdout",
     "output_type": "stream",
     "text": [
      "Catlab.GAT.TermConstructor(:id, [:A], :(Hom(A, A)), OrderedCollections.OrderedDict{Symbol, Union{Expr, Symbol}}(:A => :Ob), nothing)\n",
      "(function id (Ob) Hom)\n",
      "(rewrite (type (id A)) (Hom A A) :when ((= (type A) Ob)))\n",
      "(rule ((= _ (type (id A))))  ((let A_type (type A))))\n",
      "Catlab.GAT.TermConstructor(:compose, [:f, :g], :(Hom(A, C)), OrderedCollections.OrderedDict{Symbol, Union{Expr, Symbol}}(:A => :Ob, :B => :Ob, :C => :Ob, :f => :(Hom(A, B)), :g => :(Hom(B, C))), nothing)\n",
      "(function compose (Hom Hom) Hom)\n",
      "(rewrite (type (compose f g)) (Hom A C) :when ((= (type f) (Hom A B)) (= (type g) (Hom B C))))\n",
      "(rule ((= _ (type (compose f g))))  ((let f_type (type f)) (let g_type (type g))))\n"
     ]
    }
   ],
   "source": [
    "symbolize(s::Symbol) = s\n",
    "symbolize(e::GAT.Expr) = e.args[1]\n",
    "\n",
    "for term in th.terms\n",
    "    println(term)\n",
    "    name = term.name\n",
    "   #paramtyps =  join([egglog(term.context[p]) for p in term.params], \" \")\n",
    "   paramtyps_stripped =  join([symbolize(term.context[p]) for p in term.params], \" \")\n",
    "   typ_stripped = symbolize(term.typ)\n",
    "    # function declaration.\n",
    "   println(\"(function $(term.name) ($paramtyps_stripped) $typ_stripped)\") \n",
    "    # rewrite rule\n",
    "    \n",
    "   params = join([p for p in term.params], \" \")\n",
    "   typ = egglog(term.typ)\n",
    "   typeconds = join([\"(= (type $p) $(egglog(term.context[p])))\" for p in term.params], \" \")\n",
    "   println(\"(rewrite (type ($name $params)) $typ :when ($typeconds))\")\n",
    "    # demand\n",
    "    demand = join([\"(let $(t)_type (type $t))\" for t in term.params], \" \")\n",
    "    println(\"(rule ((= _ (type ($name $params))))  ($demand))\")\n",
    "end\n"
   ]
  },
  {
   "cell_type": "markdown",
   "id": "4ca42ac4-1870-43e3-96d3-4344b8c73d48",
   "metadata": {},
   "source": [
    "Note. It would be nice to have a way to create demand for the when condition.\n",
    "A special kind of equals sign?  \n",
    ":::=\n"
   ]
  },
  {
   "cell_type": "code",
   "execution_count": 73,
   "id": "9b9c6174-1e9e-4184-b2d5-a595d9eaa27e",
   "metadata": {},
   "outputs": [
    {
     "name": "stdout",
     "output_type": "stream",
     "text": [
      "(function Ob () TYPE)\n",
      "(function Hom (Ob Ob) TYPE)\n",
      "\n",
      "(birewrite (compose (compose f g) h) (compose f (compose g h)) :when ((= A Ob) (= B Ob) (= C Ob) (= D Ob) (= f (Hom A B)) (= g (Hom B C)) (= h (Hom C D))))\n",
      "(birewrite (compose f (id B)) f :when ((= A Ob) (= B Ob) (= f (Hom A B))))\n",
      "(birewrite (compose (id A) f) f :when ((= A Ob) (= B Ob) (= f (Hom A B))))\n"
     ]
    }
   ],
   "source": [
    "println(egglog(th))"
   ]
  },
  {
   "cell_type": "code",
   "execution_count": 61,
   "id": "0bb3758e-532e-4b61-99eb-6be023a0df51",
   "metadata": {},
   "outputs": [
    {
     "name": "stdout",
     "output_type": "stream",
     "text": [
      "(birewrite (compose (compose f g) h) (compose f (compose g h)) :when ((= A Ob) (= B Ob) (= C Ob) (= D Ob) (= f (Hom A B)) (= g (Hom B C)) (= h (Hom C D))))\n",
      "(birewrite (compose f (id B)) f :when ((= A Ob) (= B Ob) (= f (Hom A B))))\n",
      "(birewrite (compose (id A) f) f :when ((= A Ob) (= B Ob) (= f (Hom A B))))\n"
     ]
    }
   ],
   "source": [
    "for ax in th.axioms\n",
    "    println(egglog(ax))\n",
    "end"
   ]
  },
  {
   "cell_type": "code",
   "execution_count": 16,
   "id": "d37efa55-8aa5-448c-9ba1-1c7311dff7f5",
   "metadata": {},
   "outputs": [
    {
     "data": {
      "text/plain": [
       "2-element Vector{Catlab.GAT.TermConstructor}:\n",
       " Catlab.GAT.TermConstructor(:id, [:A], :(Hom(A, A)), OrderedCollections.OrderedDict{Symbol, Union{Expr, Symbol}}(:A => :Ob), nothing)\n",
       " Catlab.GAT.TermConstructor(:compose, [:f, :g], :(Hom(A, C)), OrderedCollections.OrderedDict{Symbol, Union{Expr, Symbol}}(:A => :Ob, :B => :Ob, :C => :Ob, :f => :(Hom(A, B)), :g => :(Hom(B, C))), nothing)"
      ]
     },
     "execution_count": 16,
     "metadata": {},
     "output_type": "execute_result"
    }
   ],
   "source": [
    "th.terms"
   ]
  },
  {
   "cell_type": "code",
   "execution_count": 17,
   "id": "0938fde5-23c8-4427-86a9-6dcc6f5cf2b1",
   "metadata": {},
   "outputs": [
    {
     "data": {
      "text/plain": [
       "Dict{Symbol, Symbol} with 2 entries:\n",
       "  :⋅ => :compose\n",
       "  :→ => :Hom"
      ]
     },
     "execution_count": 17,
     "metadata": {},
     "output_type": "execute_result"
    }
   ],
   "source": [
    "th.aliases"
   ]
  },
  {
   "cell_type": "code",
   "execution_count": null,
   "id": "108e8bcf-33ce-4d61-a1f8-4ccdc36430e3",
   "metadata": {},
   "outputs": [],
   "source": []
  }
 ],
 "metadata": {
  "kernelspec": {
   "display_name": "Julia 1.8.3",
   "language": "julia",
   "name": "julia-1.8"
  },
  "language_info": {
   "file_extension": ".jl",
   "mimetype": "application/julia",
   "name": "julia",
   "version": "1.8.3"
  }
 },
 "nbformat": 4,
 "nbformat_minor": 5
}
